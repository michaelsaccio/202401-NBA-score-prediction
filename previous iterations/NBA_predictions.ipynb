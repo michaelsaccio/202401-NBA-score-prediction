{
 "cells": [
  {
   "cell_type": "markdown",
   "id": "f032fe37-0679-4c3f-90a9-d03a5f02a8e6",
   "metadata": {},
   "source": [
    "## Predicting NBA Game Outcomes Using Team Stats"
   ]
  },
  {
   "cell_type": "code",
   "execution_count": 1,
   "id": "b01928fe-9e28-472e-bd4f-b3acf644c76c",
   "metadata": {},
   "outputs": [],
   "source": [
    "# libraries\n",
    "import numpy as np\n",
    "import pandas as pd\n",
    "import seaborn as sns\n",
    "import matplotlib.pyplot as plt"
   ]
  },
  {
   "cell_type": "code",
   "execution_count": 234,
   "id": "f310f058-a242-42a9-b243-4bbd1e576aa5",
   "metadata": {},
   "outputs": [
    {
     "data": {
      "text/plain": [
       "{'Lakers': {'team_ppg': 114,\n",
       "  'opp_ppg': 114.2,\n",
       "  'team_ppg_rank': 17,\n",
       "  'opp_ppg_rank': 16},\n",
       " 'Timberwolves': {'team_ppg': 113.5,\n",
       "  'opp_ppg': 106.6,\n",
       "  'team_ppg_rank': 18,\n",
       "  'opp_ppg_rank': 1}}"
      ]
     },
     "execution_count": 234,
     "metadata": {},
     "output_type": "execute_result"
    }
   ],
   "source": [
    "# imports\n",
    "\n",
    "# player stats by game\n",
    "original_data = pd.read_excel(\"data/Lakers-Timbers 2023-12-23.xlsx\")\n",
    "original_data.head()\n",
    "\n",
    "# T1 stats\n",
    "T1 = 'Lakers'\n",
    "team_ppg1 = 114\n",
    "team_ppg1_rank = 17\n",
    "opp_ppg1 = 114.2\n",
    "opp_ppg1_rank = 16 \n",
    "\n",
    "# T2 stats\n",
    "T2 = 'Timberwolves'\n",
    "team_ppg2 = 113.5\n",
    "team_ppg2_rank = 18\n",
    "opp_ppg2 = 106.6\n",
    "opp_ppg2_rank = 1\n",
    "\n",
    "# location stats\n",
    "home_team = T2\n",
    "home_team_wr = 12/13\n",
    "away_team = T1\n",
    "away_team_wr = 6/17\n",
    "\n",
    "# dictionary with team stats\n",
    "team_stats = {\n",
    "    T1: {\n",
    "        'team_ppg': team_ppg1,\n",
    "        'opp_ppg': opp_ppg1,\n",
    "        'team_ppg_rank': team_ppg1_rank,\n",
    "        'opp_ppg_rank': opp_ppg1_rank,\n",
    "    },\n",
    "    T2: {\n",
    "        'team_ppg': team_ppg2,\n",
    "        'opp_ppg': opp_ppg2,\n",
    "        'team_ppg_rank': team_ppg2_rank,\n",
    "        'opp_ppg_rank': opp_ppg2_rank,\n",
    "    },\n",
    "}\n",
    "\n",
    "team_stats"
   ]
  },
  {
   "cell_type": "code",
   "execution_count": 232,
   "id": "aaaff29e-66dc-4d82-8a24-fd9a78138531",
   "metadata": {},
   "outputs": [
    {
     "name": "stdout",
     "output_type": "stream",
     "text": [
      "Index(['PLAYERS', 'Team', 'GP', 'MIN', 'PTS', 'FGM', 'FGA', 'FG%', '3PM',\n",
      "       '3PA', '3P%', 'FTM', 'FTA', 'FT%', 'OREB', 'DREB', 'REB', 'AST', 'TOV',\n",
      "       'STL', 'BLK', 'PF', '+/-', 'GP.1', 'MIN.1', 'OFFRTG', 'DEFRTG',\n",
      "       'NETRTG', 'AST%', 'AST/TO', 'AST RATIO', 'OREB%', 'DREB%', 'REB%',\n",
      "       'TOV%', 'EFG%', 'TS%', 'USG%', 'PACE', 'PIE', 'PLAY', 'team_ppg',\n",
      "       'opp_ppg'],\n",
      "      dtype='object')\n"
     ]
    }
   ],
   "source": [
    "# shape excel sheet for player stats\n",
    "\n",
    "# create a new column for total play time\n",
    "original_data['PLAY'] = original_data['GP'] * original_data['MIN']\n",
    "\n",
    "# sort by team name, then by total time played\n",
    "sorted_df = original_data.sort_values(by=['Team', 'PLAY'], ascending=[True, False])\n",
    "\n",
    "# map team stats to the sorted DataFrame\n",
    "sorted_df['team_ppg'] = sorted_df['Team'].map(lambda team: team_stats[team]['team_ppg'])\n",
    "sorted_df['opp_ppg'] = sorted_df['Team'].map(lambda team: team_stats[team]['opp_ppg'])\n",
    "\n",
    "# print all columns in sorted_df for selection\n",
    "print(sorted_df.columns)"
   ]
  },
  {
   "cell_type": "markdown",
   "id": "5c552e0d-4306-468f-84af-b199379dcc5e",
   "metadata": {},
   "source": [
    "### Offensive Rating"
   ]
  },
  {
   "cell_type": "code",
   "execution_count": 182,
   "id": "ed55f872-02ab-4661-b213-a83c55b21ce9",
   "metadata": {},
   "outputs": [
    {
     "name": "stdout",
     "output_type": "stream",
     "text": [
      "The Lakers offensive rating: 99.85672295996234\n",
      "The Timberwolves offensive rating: 98.95061137754004\n",
      "The Lakers offensive rating is 0.92% better than Timberwolves\n"
     ]
    },
    {
     "name": "stderr",
     "output_type": "stream",
     "text": [
      "/var/folders/bl/bhy6kgn16kx9r1j535zcctcw0000gn/T/ipykernel_90088/110571356.py:5: SettingWithCopyWarning: \n",
      "A value is trying to be set on a copy of a slice from a DataFrame.\n",
      "Try using .loc[row_indexer,col_indexer] = value instead\n",
      "\n",
      "See the caveats in the documentation: https://pandas.pydata.org/pandas-docs/stable/user_guide/indexing.html#returning-a-view-versus-a-copy\n",
      "  offensive_df['Missed_FG'] = offensive_df['FGA'] - offensive_df['FGM']\n",
      "/var/folders/bl/bhy6kgn16kx9r1j535zcctcw0000gn/T/ipykernel_90088/110571356.py:6: SettingWithCopyWarning: \n",
      "A value is trying to be set on a copy of a slice from a DataFrame.\n",
      "Try using .loc[row_indexer,col_indexer] = value instead\n",
      "\n",
      "See the caveats in the documentation: https://pandas.pydata.org/pandas-docs/stable/user_guide/indexing.html#returning-a-view-versus-a-copy\n",
      "  offensive_df['Missed_3P'] = offensive_df['3PA'] - offensive_df['3PM']\n",
      "/var/folders/bl/bhy6kgn16kx9r1j535zcctcw0000gn/T/ipykernel_90088/110571356.py:7: SettingWithCopyWarning: \n",
      "A value is trying to be set on a copy of a slice from a DataFrame.\n",
      "Try using .loc[row_indexer,col_indexer] = value instead\n",
      "\n",
      "See the caveats in the documentation: https://pandas.pydata.org/pandas-docs/stable/user_guide/indexing.html#returning-a-view-versus-a-copy\n",
      "  offensive_df['Missed_FT'] = offensive_df['FTA'] - offensive_df['FTM']\n",
      "/var/folders/bl/bhy6kgn16kx9r1j535zcctcw0000gn/T/ipykernel_90088/110571356.py:10: SettingWithCopyWarning: \n",
      "A value is trying to be set on a copy of a slice from a DataFrame\n",
      "\n",
      "See the caveats in the documentation: https://pandas.pydata.org/pandas-docs/stable/user_guide/indexing.html#returning-a-view-versus-a-copy\n",
      "  offensive_df.drop(['FGA', '3PA', 'FTA'], axis=1, inplace=True)\n",
      "/var/folders/bl/bhy6kgn16kx9r1j535zcctcw0000gn/T/ipykernel_90088/110571356.py:32: SettingWithCopyWarning: \n",
      "A value is trying to be set on a copy of a slice from a DataFrame.\n",
      "Try using .loc[row_indexer,col_indexer] = value instead\n",
      "\n",
      "See the caveats in the documentation: https://pandas.pydata.org/pandas-docs/stable/user_guide/indexing.html#returning-a-view-versus-a-copy\n",
      "  offensive_df['Weighted_Score'] = weighted_columns_offensive.sum(axis=1)\n",
      "/var/folders/bl/bhy6kgn16kx9r1j535zcctcw0000gn/T/ipykernel_90088/110571356.py:35: SettingWithCopyWarning: \n",
      "A value is trying to be set on a copy of a slice from a DataFrame.\n",
      "Try using .loc[row_indexer,col_indexer] = value instead\n",
      "\n",
      "See the caveats in the documentation: https://pandas.pydata.org/pandas-docs/stable/user_guide/indexing.html#returning-a-view-versus-a-copy\n",
      "  offensive_df['Weighted_Score'] = offensive_df['Weighted_Score'] * offensive_df['PLAY']\n"
     ]
    }
   ],
   "source": [
    "# new dataframe for offensive evaluation\n",
    "offensive_df = sorted_df[['PLAYERS', 'Team', 'PLAY', 'PTS', 'FGM', 'FGA', '3PM', '3PA', 'FTM', 'FTA', 'OREB', 'AST', 'TOV', 'PF', 'OFFRTG', 'team_ppg']]\n",
    "\n",
    "# create new columns for missed field goals, missed 3-pointers, and missed free throws\n",
    "offensive_df['Missed_FG'] = offensive_df['FGA'] - offensive_df['FGM']\n",
    "offensive_df['Missed_3P'] = offensive_df['3PA'] - offensive_df['3PM']\n",
    "offensive_df['Missed_FT'] = offensive_df['FTA'] - offensive_df['FTM']\n",
    "\n",
    "# drop the original columns\n",
    "offensive_df.drop(['FGA', '3PA', 'FTA'], axis=1, inplace=True)\n",
    "\n",
    "# weights for each column\n",
    "# 1.0 for anything equivalent to contributing to offensive rating\n",
    "weights_offensive = {\n",
    "    'PTS': 1.0,\n",
    "    'FGM': 0.5,  # more made field goals contribute positively to offensive rating\n",
    "    'Missed_FG': -0.3,  # more missed field goals contribute negatively to offensive rating\n",
    "    '3PM': 0.7,  # more made three-pointers contribute positively to offensive rating\n",
    "    'Missed_3P': -0.4,  # more missed three-pointers contribute negatively to offensive rating\n",
    "    'FTM': 0.2,  # more made free throws contribute positively to offensive rating\n",
    "    'Missed_FT': -0.2,  # more missed free throws contribute negatively to offensive rating\n",
    "    'OREB': 0.75,  # more offensive rebounds contribute positively to offensive rating\n",
    "    'AST': 1.0,  # more assists contribute positively to offensive rating\n",
    "    'TOV': -1.0,  # more turnovers contribute negatively to offensive rating\n",
    "    'PF': -1.25,  # more personal fouls contribute negatively to offensive rating\n",
    "    'OFFRTG': 0.25,  # higher offensive rating contributes positively to offensive rating\n",
    "    'team_ppg': 0.5,  # team points per game also contribute positively to offensive rating\n",
    "}\n",
    "\n",
    "# apply weights to columns\n",
    "weighted_columns_offensive = offensive_df[['PTS', 'FGM', 'Missed_FG', '3PM', 'Missed_3P', 'FTM', 'Missed_FT', 'OREB', 'AST', 'TOV', 'PF', 'OFFRTG', 'team_ppg']].multiply(weights_offensive)\n",
    "offensive_df['Weighted_Score'] = weighted_columns_offensive.sum(axis=1)\n",
    "\n",
    "# multiply by 'PLAY' column\n",
    "offensive_df['Weighted_Score'] = offensive_df['Weighted_Score'] * offensive_df['PLAY']\n",
    "\n",
    "# calculating a team offensive rating using player ratings and amount of time played\n",
    "team1_offensive_score = offensive_df[offensive_df['Team'] == T1]['Weighted_Score'].sum() / offensive_df[offensive_df['Team'] == T1]['PLAY'].sum()\n",
    "team2_offensive_score = offensive_df[offensive_df['Team'] == T2]['Weighted_Score'].sum() / offensive_df[offensive_df['Team'] == T2]['PLAY'].sum()\n",
    "\n",
    "# display the team offensive scores\n",
    "print(f\"The {T1} offensive rating: {team1_offensive_score}\")\n",
    "print(f\"The {T2} offensive rating: {team2_offensive_score}\")\n",
    "\n",
    "# compare offensive scores\n",
    "if team1_offensive_score > team2_offensive_score:\n",
    "    better_offensive_team = T1\n",
    "    worse_offensive_team = T2\n",
    "    percentage_difference_offensive = ((team1_offensive_score - team2_offensive_score) / team2_offensive_score) * 100\n",
    "else:\n",
    "    better_offensive_team = T2\n",
    "    worse_offensive_team = T1\n",
    "    percentage_difference_offensive = ((team2_offensive_score - team1_offensive_score) / team1_offensive_score) * 100\n",
    "\n",
    "# print offensive results\n",
    "print(f\"The {better_offensive_team} offensive rating is {abs(percentage_difference_offensive):.2f}% better than {worse_offensive_team}\")"
   ]
  },
  {
   "cell_type": "markdown",
   "id": "21fe858a-57b9-4d2a-9b1c-7948f2bd0f17",
   "metadata": {},
   "source": [
    "### Defensive Rating"
   ]
  },
  {
   "cell_type": "code",
   "execution_count": 183,
   "id": "7866c173-e542-4b39-a383-ceb7a64fc1a6",
   "metadata": {},
   "outputs": [
    {
     "name": "stdout",
     "output_type": "stream",
     "text": [
      "The Lakers defensive rating: -55.16814317705289\n",
      "The Timberwolves defensive rating: -51.226956715546116\n",
      "The Timberwolves defensive rating is 7.14% better than Lakers\n"
     ]
    },
    {
     "name": "stderr",
     "output_type": "stream",
     "text": [
      "/var/folders/bl/bhy6kgn16kx9r1j535zcctcw0000gn/T/ipykernel_90088/2529480388.py:17: SettingWithCopyWarning: \n",
      "A value is trying to be set on a copy of a slice from a DataFrame.\n",
      "Try using .loc[row_indexer,col_indexer] = value instead\n",
      "\n",
      "See the caveats in the documentation: https://pandas.pydata.org/pandas-docs/stable/user_guide/indexing.html#returning-a-view-versus-a-copy\n",
      "  defensive_df['Weighted_Score'] = weighted_columns.sum(axis=1)\n",
      "/var/folders/bl/bhy6kgn16kx9r1j535zcctcw0000gn/T/ipykernel_90088/2529480388.py:20: SettingWithCopyWarning: \n",
      "A value is trying to be set on a copy of a slice from a DataFrame.\n",
      "Try using .loc[row_indexer,col_indexer] = value instead\n",
      "\n",
      "See the caveats in the documentation: https://pandas.pydata.org/pandas-docs/stable/user_guide/indexing.html#returning-a-view-versus-a-copy\n",
      "  defensive_df['Weighted_Score'] = defensive_df['Weighted_Score'] * defensive_df['PLAY']\n"
     ]
    }
   ],
   "source": [
    "# new dataframe for defensive evaluation\n",
    "defensive_df = sorted_df[['PLAYERS', 'Team', 'PLAY', 'DREB', 'STL', 'BLK', 'PF', 'DEFRTG', 'opp_ppg']]\n",
    "\n",
    "# weights for each column\n",
    "# 1.0 for anything equivalent to preventing an opponent score\n",
    "weights = {\n",
    "    'DREB': 1.0,\n",
    "    'STL': 1.0,\n",
    "    'BLK': 0.5,\n",
    "    'PF': -1.5,   # fewer Player Fouls is better, so we use a negative weight\n",
    "    'DEFRTG': 0.25, \n",
    "    'opp_ppg': -0.75 # fewer Opponent Points per Game is better, so we use a negative weight\n",
    "}\n",
    "\n",
    "# apply weights to columns\n",
    "weighted_columns = defensive_df[['DREB', 'STL', 'BLK', 'PF', 'DEFRTG', 'opp_ppg']].multiply(weights)\n",
    "defensive_df['Weighted_Score'] = weighted_columns.sum(axis=1)\n",
    "\n",
    "# multiply by 'PLAY' column\n",
    "defensive_df['Weighted_Score'] = defensive_df['Weighted_Score'] * defensive_df['PLAY']\n",
    "\n",
    "# display the DataFrame with the new Weighted_Score column\n",
    "defensive_df[['PLAYERS', 'Team', 'Weighted_Score']]\n",
    "\n",
    "# calculating a team defensive rating using player ratings and amount of time played\n",
    "team1_defensive_score = defensive_df[defensive_df['Team'] == T1]['Weighted_Score'].sum() / defensive_df[defensive_df['Team'] == T1]['PLAY'].sum()\n",
    "team2_defensive_score = defensive_df[defensive_df['Team'] == T2]['Weighted_Score'].sum() / defensive_df[defensive_df['Team'] == T2]['PLAY'].sum()\n",
    "\n",
    "# display the team defensive scores\n",
    "print(f\"The {T1} defensive rating: {team1_defensive_score}\")\n",
    "print(f\"The {T2} defensive rating: {team2_defensive_score}\")\n",
    "\n",
    "# compare defensive scores\n",
    "if team1_defensive_score > team2_defensive_score:\n",
    "    better_defensive_team = T1\n",
    "    worse_defensive_team = T2\n",
    "    percentage_difference_defensive = ((team1_defensive_score - team2_defensive_score) / team2_defensive_score) * 100\n",
    "else:\n",
    "    better_defensive_team = T2\n",
    "    worse_defensive_team = T1\n",
    "    percentage_difference_defensive = ((team2_defensive_score - team1_defensive_score) / team1_defensive_score) * 100\n",
    "\n",
    "# print defensive results\n",
    "print(f\"The {better_defensive_team} defensive rating is {abs(percentage_difference_defensive):.2f}% better than {worse_defensive_team}\")"
   ]
  },
  {
   "cell_type": "markdown",
   "id": "95c61fbe-6c3e-4a28-a44d-5193a4feb2f7",
   "metadata": {},
   "source": [
    "### Creating a Point of Reference"
   ]
  },
  {
   "cell_type": "code",
   "execution_count": 208,
   "id": "fc571374-5fbc-4f4c-b6fc-eb200e9ff3d5",
   "metadata": {},
   "outputs": [
    {
     "name": "stdout",
     "output_type": "stream",
     "text": [
      "The estimated average offensive rating is 101.67\n",
      "The estimated average defensive rating is -54.91\n"
     ]
    }
   ],
   "source": [
    "def calculate_15(team1_stats, team2_stats, team1_score, team2_score, rank_key='opp_ppg_rank'):\n",
    "    # extract ranks from team stats\n",
    "    team1_rank = team1_stats.get(rank_key, None)\n",
    "    team2_rank = team2_stats.get(rank_key, None)\n",
    "    \n",
    "    # check if either team is ranked 15th\n",
    "    if team1_rank == 15 or team2_rank == 15:\n",
    "        return team1_score, team2_score  # no need to calculate average if one of the teams is already ranked 15th\n",
    "    \n",
    "    # calculate the difference in ranks between the two teams\n",
    "    rank_difference = abs(team1_rank - team2_rank)\n",
    "    \n",
    "    # calculate the value of changing one rank\n",
    "    rank_increment_value = abs(abs(team1_score) - abs(team2_score)) / rank_difference\n",
    "    \n",
    "    # calculate the average score of the 15th ranked team for Team 1\n",
    "    rank_distance = 15 - team1_rank\n",
    "    if rank_distance < 0:\n",
    "        average_score = team1_score + rank_increment_value * abs(rank_distance)\n",
    "    else:\n",
    "        average_score = team1_score - rank_increment_value * abs(rank_distance)\n",
    "    \n",
    "    return average_score\n",
    "\n",
    "# calculate the estimated average offensive score\n",
    "average_offensive_rating = calculate_15(T1_stats, T2_stats, team1_offensive_score, team2_offensive_score, rank_key='team_ppg_rank')\n",
    "print(f\"The estimated average offensive rating is {average_offensive_rating:.2f}\")\n",
    "\n",
    "# calculate the estimated average defensive score\n",
    "average_defensive_rating = calculate_15(T1_stats, T2_stats, team1_defensive_score, team2_defensive_score, rank_key='opp_ppg_rank')\n",
    "print(f\"The estimated average defensive rating is {average_defensive_rating:.2f}\")"
   ]
  },
  {
   "cell_type": "code",
   "execution_count": 213,
   "id": "05623b83-2cc7-4412-b595-d983a69a3d51",
   "metadata": {},
   "outputs": [
    {
     "name": "stdout",
     "output_type": "stream",
     "text": [
      "The Lakers's offensive rating is 1.78% worse than the estimated average.\n",
      "The Timberwolves's offensive rating is 2.67% worse than the estimated average.\n",
      "The Lakers's defensive rating is 0.48% worse than the estimated average.\n",
      "The Timberwolves's defensive rating is 6.70% better than the estimated average.\n"
     ]
    }
   ],
   "source": [
    "# compare offensive scores for Team 1\n",
    "if team1_offensive_score > average_offensive_rating:\n",
    "    print(f\"The {T1}'s offensive rating is {abs((team1_offensive_score - average_offensive_rating) / average_offensive_rating) * 100:.2f}% better than the estimated average\")\n",
    "else:\n",
    "    print(f\"The {T1}'s offensive rating is {abs((team1_offensive_score - average_offensive_rating) / average_offensive_rating) * 100:.2f}% worse than the estimated average\")\n",
    "\n",
    "# compare offensive scores for Team 2\n",
    "if team2_offensive_score > average_offensive_rating:\n",
    "    print(f\"The {T2}'s offensive rating is {abs((team2_offensive_score - average_offensive_rating) / average_offensive_rating) * 100:.2f}% better than the estimated average\")\n",
    "else:\n",
    "    print(f\"The {T2}'s offensive rating is {abs((team2_offensive_score - average_offensive_rating) / average_offensive_rating) * 100:.2f}% worse than the estimated average\")\n",
    "\n",
    "# compare defensive scores for Team 1\n",
    "if team1_defensive_score > average_defensive_rating:\n",
    "    print(f\"The {T1}'s defensive rating is {abs((team1_defensive_score - average_defensive_rating) / average_defensive_rating) * 100:.2f}% better than the estimated average\")\n",
    "else:\n",
    "    print(f\"The {T1}'s defensive rating is {abs((team1_defensive_score - average_defensive_rating) / average_defensive_rating) * 100:.2f}% worse than the estimated average\")\n",
    "\n",
    "# compare defensive scores for Team 2\n",
    "if team2_defensive_score > average_defensive_rating:\n",
    "    print(f\"The {T2}'s defensive rating is {abs((team2_defensive_score - average_defensive_rating) / average_defensive_rating) * 100:.2f}% better than the estimated average\")\n",
    "else:\n",
    "    print(f\"The {T2}'s defensive rating is {abs((team2_defensive_score - average_defensive_rating) / average_defensive_rating) * 100:.2f}% worse than the estimated average\")"
   ]
  },
  {
   "cell_type": "markdown",
   "id": "70caf3ca-b663-485f-abef-9caf94d2a34f",
   "metadata": {},
   "source": [
    "### Combing our Offensive/Deffensive Ratings with our Point of Reference"
   ]
  },
  {
   "cell_type": "code",
   "execution_count": 240,
   "id": "f20d1919-b051-45f4-a951-fa9f3b8e1698",
   "metadata": {},
   "outputs": [
    {
     "name": "stdout",
     "output_type": "stream",
     "text": [
      "The Lakers will score 108 points\n",
      "The Timberwolves will score 127 points\n"
     ]
    }
   ],
   "source": [
    "# estimated distance between T1 offense and T2 defense\n",
    "T1_disparity = (team1_offensive_score - average_offensive_rating) / average_offensive_rating + (-(team2_defensive_score - average_defensive_rating) / average_defensive_rating)\n",
    "\n",
    "# estimated distance between T2 offense and T1 defense\n",
    "T2_disparity = (team2_offensive_score - average_offensive_rating) / average_offensive_rating + (-(team1_defensive_score - average_defensive_rating) / average_defensive_rating)\n",
    "\n",
    "# calculate each teams score using the differences in off/def ability\n",
    "T1_score = team_ppg1 * (1 - T1_disparity)\n",
    "T2_score = team_ppg2 * (1 - T2_disparity)\n",
    "\n",
    "# adjust scores based on home/away performance with scaling factor\n",
    "# scaling factor for home/away effect\n",
    "scaling_factor = 0.1\n",
    "\n",
    "if home_team == T1:\n",
    "    T1_score *= (1 + scaling_factor * (home_team_wr - 0.5))\n",
    "else:\n",
    "    T2_score *= (1 + scaling_factor * (home_team_wr - 0.5))\n",
    "\n",
    "if home_team == T2:\n",
    "    T2_score *= (1 + scaling_factor * (home_team_wr - 0.5))\n",
    "else:\n",
    "    T1_score *= (1 + scaling_factor * (home_team_wr - 0.5))\n",
    "\n",
    "print(f\"The {T1} will score {T1_score:.0f} points\")\n",
    "print(f\"The {T2} will score {T2_score:.0f} points\")"
   ]
  },
  {
   "cell_type": "markdown",
   "id": "d0603f52-6f00-46a3-96e9-1052e0d3b00d",
   "metadata": {},
   "source": [
    "### Bootstrapping"
   ]
  },
  {
   "cell_type": "code",
   "execution_count": 271,
   "id": "6025a152-ec76-4d0c-8b09-53a9f57d135b",
   "metadata": {},
   "outputs": [
    {
     "name": "stdout",
     "output_type": "stream",
     "text": [
      "Simulated 10000 bootstrap samples:\n",
      "The Timberwolves have a 98.64% chance to win, with a predicted score of 127 to 108\n",
      "The Lakers may score between 101 and 115 points (middle 80%)\n",
      "The Timberwolves may score between 119 and 135 points (middle 80%)\n"
     ]
    },
    {
     "data": {
      "image/png": "[encoded data removed]",
      "text/plain": [
       "<Figure size 640x480 with 1 Axes>"
      ]
     },
     "metadata": {},
     "output_type": "display_data"
    }
   ],
   "source": [
    "# Number of bootstrap samples\n",
    "num_samples = 10000\n",
    "\n",
    "# Mean and standard deviation for the normal distribution\n",
    "mean_randomization_factor = 1.0\n",
    "std_dev_randomization_factor = 0.05  # Adjust this to control the spread\n",
    "\n",
    "# Arrays to store the sampled scores\n",
    "T1_scores = np.zeros(num_samples)\n",
    "T2_scores = np.zeros(num_samples)\n",
    "\n",
    "# Simulate bootstrap samples\n",
    "for i in range(num_samples):\n",
    "    # Sample randomization factors from a normal distribution\n",
    "    randomization_factor_T1 = np.random.normal(mean_randomization_factor, std_dev_randomization_factor)\n",
    "    randomization_factor_T2 = np.random.normal(mean_randomization_factor, std_dev_randomization_factor)\n",
    "\n",
    "    # Calculate each team's score using the differences in off/def ability\n",
    "    T1_score = team_ppg1 * (1 - T1_disparity) * randomization_factor_T1\n",
    "    T2_score = team_ppg2 * (1 - T2_disparity) * randomization_factor_T2\n",
    "\n",
    "    # Adjust scores based on home/away performance with scaling factor\n",
    "    if home_team == T1:\n",
    "        T1_score *= (1 + scaling_factor * (home_team_wr - 0.5))\n",
    "    else:\n",
    "        T2_score *= (1 + scaling_factor * (home_team_wr - 0.5))\n",
    "\n",
    "    if home_team == T2:\n",
    "        T2_score *= (1 + scaling_factor * (home_team_wr - 0.5))\n",
    "    else:\n",
    "        T1_score *= (1 + scaling_factor * (home_team_wr - 0.5))\n",
    "\n",
    "    # Store sampled scores\n",
    "    T1_scores[i] = T1_score\n",
    "    T2_scores[i] = T2_score\n",
    "\n",
    "# Calculate win percentages\n",
    "win_percentage_T1 = np.sum(T1_scores > T2_scores) / num_samples * 100\n",
    "win_percentage_T2 = np.sum(T2_scores > T1_scores) / num_samples * 100\n",
    "\n",
    "# Print results\n",
    "print(f\"Simulated {num_samples} bootstrap samples:\")\n",
    "\n",
    "# Print the team with the higher win percentage\n",
    "if win_percentage_T1 > win_percentage_T2:\n",
    "    print(f\"The {T1} have a {win_percentage_T1:.2f}% chance to win, with a predicted score of {np.mean(T1_scores):.0f} to {np.mean(T2_scores):.0f}\")\n",
    "else:\n",
    "    print(f\"The {T2} have a {win_percentage_T2:.2f}% chance to win, with a predicted score of {np.mean(T2_scores):.0f} to {np.mean(T1_scores):.0f}\")\n",
    "\n",
    "\n",
    "# Calculate the lower and upper bounds for the middle 80%\n",
    "lower_bound_T1 = np.percentile(T1_scores, 10)\n",
    "upper_bound_T1 = np.percentile(T1_scores, 90)\n",
    "\n",
    "lower_bound_T2 = np.percentile(T2_scores, 10)\n",
    "upper_bound_T2 = np.percentile(T2_scores, 90)\n",
    "\n",
    "# Print the range of scores\n",
    "print(f\"The {T1} may score between {lower_bound_T1:.0f} and {upper_bound_T1:.0f} points (middle 80%)\")\n",
    "print(f\"The {T2} may score between {lower_bound_T2:.0f} and {upper_bound_T2:.0f} points (middle 80%)\")\n",
    "\n",
    "\n",
    "# plot side-by-side bell curves for T1 and T2 scores\n",
    "sns.histplot(T1_scores, kde=True, stat=\"density\", color=\"blue\", label=f\"{T1} Scores\")\n",
    "sns.histplot(T2_scores, kde=True, stat=\"density\", color=\"green\", label=f\"{T2} Scores\")\n",
    "plt.title(f\"Distribution of {T1} and {T2} Scores\")\n",
    "plt.xlabel(\"Points\")\n",
    "plt.ylabel(\"Density\")\n",
    "plt.legend()\n",
    "plt.show()"
   ]
  },
  {
   "cell_type": "code",
   "execution_count": null,
   "id": "47cd8fb7-0b6a-41cb-b77a-8087dbc3f1ba",
   "metadata": {},
   "outputs": [],
   "source": []
  }
 ],
 "metadata": {
  "kernelspec": {
   "display_name": "Python 3 (ipykernel)",
   "language": "python",
   "name": "python3"
  },
  "language_info": {
   "codemirror_mode": {
    "name": "ipython",
    "version": 3
   },
   "file_extension": ".py",
   "mimetype": "text/x-python",
   "name": "python",
   "nbconvert_exporter": "python",
   "pygments_lexer": "ipython3",
   "version": "3.11.5"
  }
 },
 "nbformat": 4,
 "nbformat_minor": 5
}
